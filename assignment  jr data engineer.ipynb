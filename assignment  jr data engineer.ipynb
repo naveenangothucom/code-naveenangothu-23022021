{
 "cells": [
  {
   "cell_type": "markdown",
   "metadata": {},
   "source": [
    "##### Here am used these selenium Tool for web scraping \n",
    "\n",
    "Selenium is an open-source testing tool.Selenium is a functional testing tool and also compatible with non-functional testing tools as well."
   ]
  },
  {
   "cell_type": "code",
   "execution_count": 2,
   "metadata": {},
   "outputs": [],
   "source": [
    "import pandas as pd # packes \n",
    "from selenium import webdriver # is to read the data\n",
    "from selenium.webdriver.support.ui import WebDriverWait"
   ]
  },
  {
   "cell_type": "markdown",
   "metadata": {},
   "source": [
    "here am used this webdriver and firefox for to read the link and if  you want to run the code download Geckodriver"
   ]
  },
  {
   "cell_type": "code",
   "execution_count": 6,
   "metadata": {},
   "outputs": [],
   "source": [
    "driver = webdriver.Firefox()\n",
    "driver.get(\"https://prefeitura.pbh.gov.br/saude/licitacao/pregao-eletronico-151-2020//\")"
   ]
  },
  {
   "cell_type": "markdown",
   "metadata": {},
   "source": [
    "#### publication date \n",
    "based on the publication date we taken node and printed bellow"
   ]
  },
  {
   "cell_type": "code",
   "execution_count": 27,
   "metadata": {},
   "outputs": [],
   "source": [
    "publication_date = driver.find_elements_by_css_selector(\"span.col-sm-6:nth-child(1)\")\n",
    "publication_date[0].text.split(\": \")[1]"
   ]
  },
  {
   "cell_type": "markdown",
   "metadata": {},
   "source": [
    "#### Bidding date\n",
    "based on the Bidding date we taken node and printed bellow "
   ]
  },
  {
   "cell_type": "code",
   "execution_count": 32,
   "metadata": {},
   "outputs": [],
   "source": [
    "Bidding_date = driver.find_elements_by_css_selector(\"span.col-sm-6:nth-child(19)\")\n",
    "Bidding_date[0].text.split(\": \")[1]"
   ]
  },
  {
   "cell_type": "markdown",
   "metadata": {},
   "source": [
    "#### language selection\n",
    "here we have different languages am particularly taken English language node and language converted"
   ]
  },
  {
   "cell_type": "code",
   "execution_count": 43,
   "metadata": {},
   "outputs": [],
   "source": [
    "language = driver.find_element_by_css_selector(\"a.gtflag:nth-child(9)\").click()"
   ]
  },
  {
   "cell_type": "markdown",
   "metadata": {},
   "source": [
    "#### Object \n",
    "object on some  text is printed below and iterated"
   ]
  },
  {
   "cell_type": "code",
   "execution_count": 46,
   "metadata": {},
   "outputs": [],
   "source": [
    "object_data = driver.find_element_by_css_selector(\"div.views-field:nth-child(2) > span:nth-child(1) > p:nth-child(6)\")\n",
    "object_data.text"
   ]
  },
  {
   "cell_type": "markdown",
   "metadata": {},
   "source": [
    "#### Creating a script\n",
    "particularly whole table taken and iterated after that\n",
    "i was created a forloop and iterated\n",
    "this table and links ,PDF are iterated separatly"
   ]
  },
  {
   "cell_type": "code",
   "execution_count": 71,
   "metadata": {},
   "outputs": [],
   "source": [
    "Title=driver.find_element_by_css_selector(\"div.views-field:nth-child(3)\")\n",
    "table_elements=table.find_elements_by_css_selector(\"a\"))"
   ]
  },
  {
   "cell_type": "markdown",
   "metadata": {},
   "source": [
    "based on that table data here multiple data is there then am disgusted this (PDF,term)\n",
    "and created a script "
   ]
  },
  {
   "cell_type": "code",
   "execution_count": 79,
   "metadata": {},
   "outputs": [
    {
     "name": "stdout",
     "output_type": "stream",
     "text": [
      "http://portal6.pbh.gov.br/dom/iniciaEdicao.do?method=DetalheArtigo&pk=1235349\n",
      "http://portal6.pbh.gov.br/dom/iniciaEdicao.do?method=DetalheArtigo&pk=1239614\n",
      "https://www.licitacoes-e.com.br/aop/consultar-detalhes-licitacao.aop?numeroLicitacao=852045&opcao=consultarDetalhesLicitacao\n"
     ]
    }
   ],
   "source": [
    "for link in table_elements:\n",
    "    if not link.get_attribute(\"href\").endswith(\"pdf\") and not \"term\" in link.get_attribute(\"href\"):\n",
    "        \n",
    "        print(link.get_attribute(\"href\"))"
   ]
  },
  {
   "cell_type": "code",
   "execution_count": null,
   "metadata": {},
   "outputs": [],
   "source": []
  }
 ],
 "metadata": {
  "kernelspec": {
   "display_name": "Python 3",
   "language": "python",
   "name": "python3"
  },
  "language_info": {
   "codemirror_mode": {
    "name": "ipython",
    "version": 3
   },
   "file_extension": ".py",
   "mimetype": "text/x-python",
   "name": "python",
   "nbconvert_exporter": "python",
   "pygments_lexer": "ipython3",
   "version": "3.7.4"
  },
  "widgets": {
   "application/vnd.jupyter.widget-state+json": {
    "state": {},
    "version_major": 2,
    "version_minor": 0
   }
  }
 },
 "nbformat": 4,
 "nbformat_minor": 2
}
